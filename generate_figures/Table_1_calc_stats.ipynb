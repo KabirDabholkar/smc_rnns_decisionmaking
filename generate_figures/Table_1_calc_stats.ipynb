{
 "cells": [
  {
   "cell_type": "code",
   "execution_count": null,
   "id": "ea98285b",
   "metadata": {},
   "outputs": [],
   "source": [
    "import numpy as np\n",
    "import torch\n",
    "import sys, os\n",
    "\n",
    "sys.path.append(\"../\")\n",
    "\n",
    "from vi_rnn.saving import load_model\n",
    "from vi_rnn.evaluation import eval_VAE\n",
    "from vi_rnn.datasets import Basic_dataset\n",
    "\n",
    "from scipy.stats import median_abs_deviation as mad"
   ]
  },
  {
   "cell_type": "code",
   "execution_count": null,
   "id": "d45340e7",
   "metadata": {},
   "outputs": [],
   "source": [
    "# initialise dataset\n",
    "eval_data = np.float32(np.load(\"../data/eeg/EEG_data_smoothed.npy\"))\n",
    "task_params = {\"name\": \"EEG\", \"dur\": 50, \"n_trials\": 500}\n",
    "task = Basic_dataset(task_params, eval_data, eval_data)"
   ]
  },
  {
   "cell_type": "code",
   "execution_count": null,
   "id": "25747b9b",
   "metadata": {},
   "outputs": [],
   "source": [
    "# load and eval models\n",
    "directory = \"../models/sweep_eeg/\"\n",
    "\n",
    "directory_bs = os.fsencode(directory)\n",
    "\n",
    "data_kl = []\n",
    "data_ph = []\n",
    "\n",
    "for file in os.listdir(directory_bs):\n",
    "    filename = os.fsdecode(file)\n",
    "    if filename.endswith(\"_vae_params.pkl\"):\n",
    "        model_name = filename.removesuffix(\"_vae_params.pkl\")\n",
    "        print(model_name)\n",
    "        vae, params, task_params, training_params = load_model(\n",
    "            directory + model_name, load_encoder=False\n",
    "        )\n",
    "        klx_bin, psH, _ = eval_VAE(\n",
    "            vae,\n",
    "            task,\n",
    "            smoothing=20,\n",
    "            cut_off=2400,\n",
    "            freq_cut_off=-1,\n",
    "            sim_obs_noise=1,\n",
    "            sim_latent_noise=True,\n",
    "            smooth_at_eval=True,\n",
    "        )\n",
    "        data_kl.append(klx_bin)\n",
    "        data_ph.append(psH)"
   ]
  },
  {
   "cell_type": "code",
   "execution_count": null,
   "id": "7dd5a6f1",
   "metadata": {},
   "outputs": [],
   "source": [
    "# check if we have 20 models\n",
    "assert len(data_kl) == 20"
   ]
  },
  {
   "cell_type": "code",
   "execution_count": null,
   "id": "f110967a",
   "metadata": {},
   "outputs": [],
   "source": [
    "# print median and mad hellinger distance\n",
    "print(np.median(data_ph), mad(data_ph))"
   ]
  },
  {
   "cell_type": "code",
   "execution_count": null,
   "id": "9d9209b7",
   "metadata": {},
   "outputs": [],
   "source": [
    "# print median and mad KL divergence\n",
    "print(np.median(data_kl), mad(data_kl))"
   ]
  },
  {
   "cell_type": "code",
   "execution_count": null,
   "id": "d3467062",
   "metadata": {},
   "outputs": [],
   "source": [
    "# Print number of parameters\n",
    "# Weights + Biases + Out biases + Out weights + Cholesky latent covariance + Time constant\n",
    "# + Observation variance + Intial covariance, initial mean\n",
    "\n",
    "\n",
    "def n_el(n):\n",
    "    \"\"\"return number of elements in a triangular matrix\"\"\"\n",
    "    return int(((n**2) + n) / 2)\n",
    "\n",
    "\n",
    "dz = 3\n",
    "dx = 64\n",
    "N = 512\n",
    "n_params = N * dz * 2 + N + dx + dz * dx + n_el(dz) + 1 + dx + n_el(dz) + dz\n",
    "print(n_params)"
   ]
  }
 ],
 "metadata": {
  "kernelspec": {
   "display_name": "Python 3 (ipykernel)",
   "language": "python",
   "name": "python3"
  },
  "language_info": {
   "codemirror_mode": {
    "name": "ipython",
    "version": 3
   },
   "file_extension": ".py",
   "mimetype": "text/x-python",
   "name": "python",
   "nbconvert_exporter": "python",
   "pygments_lexer": "ipython3",
   "version": "3.9.18"
  },
  "toc": {
   "base_numbering": 1,
   "nav_menu": {},
   "number_sections": true,
   "sideBar": true,
   "skip_h1_title": false,
   "title_cell": "Table of Contents",
   "title_sidebar": "Contents",
   "toc_cell": false,
   "toc_position": {},
   "toc_section_display": true,
   "toc_window_display": false
  }
 },
 "nbformat": 4,
 "nbformat_minor": 5
}
